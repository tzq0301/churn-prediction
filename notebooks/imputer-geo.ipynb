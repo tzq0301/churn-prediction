{
 "cells": [
  {
   "cell_type": "code",
   "execution_count": 1,
   "id": "initial_id",
   "metadata": {
    "collapsed": true,
    "ExecuteTime": {
     "end_time": "2024-03-26T11:35:57.171238Z",
     "start_time": "2024-03-26T11:35:57.000064Z"
    }
   },
   "outputs": [],
   "source": [
    "from sklearn.impute import SimpleImputer\n",
    "import numpy as np\n",
    "import pandas as pd"
   ]
  },
  {
   "cell_type": "code",
   "outputs": [
    {
     "data": {
      "text/plain": "      RowNumber  CustomerId      Surname  CreditScore Geography  Gender   Age  \\\n0             1    15634602     Hargrave          619    France  Female  42.0   \n1             2    15647311         Hill          608     Spain  Female  41.0   \n2             3    15619304         Onio          502    France  Female  42.0   \n3             4    15701354         Boni          699    France  Female  39.0   \n4             5    15737888     Mitchell          850     Spain  Female  43.0   \n...         ...         ...          ...          ...       ...     ...   ...   \n8995       8996    15580623    Yefremova          573     Spain    Male  28.0   \n8996       8997    15578156  Anenechukwu          615     Spain    Male  32.0   \n8997       8998    15631063     Trentino          710    France  Female  33.0   \n8998       8999    15692577    Tomlinson          674   Germany  Female  38.0   \n8999       9000    15810910      Royston          702     Spain  Female  38.0   \n\n      Tenure    Balance  NumOfProducts  HasCrCard  IsActiveMember  \\\n0          2       0.00              1        1.0             1.0   \n1          1   83807.86              1        0.0             1.0   \n2          8  159660.80              3        1.0             0.0   \n3          1       0.00              2        0.0             0.0   \n4          2  125510.82              1        NaN             1.0   \n...      ...        ...            ...        ...             ...   \n8995       8       0.00              2        0.0             0.0   \n8996       5  138521.83              1        1.0             1.0   \n8997       2       0.00              2        1.0             0.0   \n8998      10   83727.68              1        1.0             0.0   \n8999       9       0.00              2        1.0             1.0   \n\n      EstimatedSalary  Exited  \n0           101348.88       1  \n1           112542.58       0  \n2           113931.57       1  \n3            93826.63       0  \n4            79084.10       0  \n...               ...     ...  \n8995         77660.03       0  \n8996         56897.10       0  \n8997         72945.32       0  \n8998         45418.12       0  \n8999        158527.45       0  \n\n[9000 rows x 14 columns]",
      "text/html": "<div>\n<style scoped>\n    .dataframe tbody tr th:only-of-type {\n        vertical-align: middle;\n    }\n\n    .dataframe tbody tr th {\n        vertical-align: top;\n    }\n\n    .dataframe thead th {\n        text-align: right;\n    }\n</style>\n<table border=\"1\" class=\"dataframe\">\n  <thead>\n    <tr style=\"text-align: right;\">\n      <th></th>\n      <th>RowNumber</th>\n      <th>CustomerId</th>\n      <th>Surname</th>\n      <th>CreditScore</th>\n      <th>Geography</th>\n      <th>Gender</th>\n      <th>Age</th>\n      <th>Tenure</th>\n      <th>Balance</th>\n      <th>NumOfProducts</th>\n      <th>HasCrCard</th>\n      <th>IsActiveMember</th>\n      <th>EstimatedSalary</th>\n      <th>Exited</th>\n    </tr>\n  </thead>\n  <tbody>\n    <tr>\n      <th>0</th>\n      <td>1</td>\n      <td>15634602</td>\n      <td>Hargrave</td>\n      <td>619</td>\n      <td>France</td>\n      <td>Female</td>\n      <td>42.0</td>\n      <td>2</td>\n      <td>0.00</td>\n      <td>1</td>\n      <td>1.0</td>\n      <td>1.0</td>\n      <td>101348.88</td>\n      <td>1</td>\n    </tr>\n    <tr>\n      <th>1</th>\n      <td>2</td>\n      <td>15647311</td>\n      <td>Hill</td>\n      <td>608</td>\n      <td>Spain</td>\n      <td>Female</td>\n      <td>41.0</td>\n      <td>1</td>\n      <td>83807.86</td>\n      <td>1</td>\n      <td>0.0</td>\n      <td>1.0</td>\n      <td>112542.58</td>\n      <td>0</td>\n    </tr>\n    <tr>\n      <th>2</th>\n      <td>3</td>\n      <td>15619304</td>\n      <td>Onio</td>\n      <td>502</td>\n      <td>France</td>\n      <td>Female</td>\n      <td>42.0</td>\n      <td>8</td>\n      <td>159660.80</td>\n      <td>3</td>\n      <td>1.0</td>\n      <td>0.0</td>\n      <td>113931.57</td>\n      <td>1</td>\n    </tr>\n    <tr>\n      <th>3</th>\n      <td>4</td>\n      <td>15701354</td>\n      <td>Boni</td>\n      <td>699</td>\n      <td>France</td>\n      <td>Female</td>\n      <td>39.0</td>\n      <td>1</td>\n      <td>0.00</td>\n      <td>2</td>\n      <td>0.0</td>\n      <td>0.0</td>\n      <td>93826.63</td>\n      <td>0</td>\n    </tr>\n    <tr>\n      <th>4</th>\n      <td>5</td>\n      <td>15737888</td>\n      <td>Mitchell</td>\n      <td>850</td>\n      <td>Spain</td>\n      <td>Female</td>\n      <td>43.0</td>\n      <td>2</td>\n      <td>125510.82</td>\n      <td>1</td>\n      <td>NaN</td>\n      <td>1.0</td>\n      <td>79084.10</td>\n      <td>0</td>\n    </tr>\n    <tr>\n      <th>...</th>\n      <td>...</td>\n      <td>...</td>\n      <td>...</td>\n      <td>...</td>\n      <td>...</td>\n      <td>...</td>\n      <td>...</td>\n      <td>...</td>\n      <td>...</td>\n      <td>...</td>\n      <td>...</td>\n      <td>...</td>\n      <td>...</td>\n      <td>...</td>\n    </tr>\n    <tr>\n      <th>8995</th>\n      <td>8996</td>\n      <td>15580623</td>\n      <td>Yefremova</td>\n      <td>573</td>\n      <td>Spain</td>\n      <td>Male</td>\n      <td>28.0</td>\n      <td>8</td>\n      <td>0.00</td>\n      <td>2</td>\n      <td>0.0</td>\n      <td>0.0</td>\n      <td>77660.03</td>\n      <td>0</td>\n    </tr>\n    <tr>\n      <th>8996</th>\n      <td>8997</td>\n      <td>15578156</td>\n      <td>Anenechukwu</td>\n      <td>615</td>\n      <td>Spain</td>\n      <td>Male</td>\n      <td>32.0</td>\n      <td>5</td>\n      <td>138521.83</td>\n      <td>1</td>\n      <td>1.0</td>\n      <td>1.0</td>\n      <td>56897.10</td>\n      <td>0</td>\n    </tr>\n    <tr>\n      <th>8997</th>\n      <td>8998</td>\n      <td>15631063</td>\n      <td>Trentino</td>\n      <td>710</td>\n      <td>France</td>\n      <td>Female</td>\n      <td>33.0</td>\n      <td>2</td>\n      <td>0.00</td>\n      <td>2</td>\n      <td>1.0</td>\n      <td>0.0</td>\n      <td>72945.32</td>\n      <td>0</td>\n    </tr>\n    <tr>\n      <th>8998</th>\n      <td>8999</td>\n      <td>15692577</td>\n      <td>Tomlinson</td>\n      <td>674</td>\n      <td>Germany</td>\n      <td>Female</td>\n      <td>38.0</td>\n      <td>10</td>\n      <td>83727.68</td>\n      <td>1</td>\n      <td>1.0</td>\n      <td>0.0</td>\n      <td>45418.12</td>\n      <td>0</td>\n    </tr>\n    <tr>\n      <th>8999</th>\n      <td>9000</td>\n      <td>15810910</td>\n      <td>Royston</td>\n      <td>702</td>\n      <td>Spain</td>\n      <td>Female</td>\n      <td>38.0</td>\n      <td>9</td>\n      <td>0.00</td>\n      <td>2</td>\n      <td>1.0</td>\n      <td>1.0</td>\n      <td>158527.45</td>\n      <td>0</td>\n    </tr>\n  </tbody>\n</table>\n<p>9000 rows × 14 columns</p>\n</div>"
     },
     "execution_count": 2,
     "metadata": {},
     "output_type": "execute_result"
    }
   ],
   "source": [
    "df = pd.read_csv('../data/train.csv')\n",
    "df"
   ],
   "metadata": {
    "collapsed": false,
    "ExecuteTime": {
     "end_time": "2024-03-26T11:36:01.025247Z",
     "start_time": "2024-03-26T11:36:01.002882Z"
    }
   },
   "id": "f594e14d16e763d2",
   "execution_count": 2
  },
  {
   "cell_type": "code",
   "outputs": [
    {
     "data": {
      "text/plain": "Geography\nFrance     4498\nSpain      2253\nGermany    2249\nName: count, dtype: int64"
     },
     "execution_count": 13,
     "metadata": {},
     "output_type": "execute_result"
    }
   ],
   "source": [
    "df['Geography'].value_counts(dropna=False)"
   ],
   "metadata": {
    "collapsed": false,
    "ExecuteTime": {
     "end_time": "2024-03-26T11:39:30.850662Z",
     "start_time": "2024-03-26T11:39:30.845267Z"
    }
   },
   "id": "fcbbddb78959e7b1",
   "execution_count": 13
  },
  {
   "cell_type": "code",
   "outputs": [
    {
     "data": {
      "text/plain": "Geography\nFrance     4498\nSpain      2253\nGermany    2249\nName: count, dtype: int64"
     },
     "execution_count": 14,
     "metadata": {},
     "output_type": "execute_result"
    }
   ],
   "source": [
    "imputer = SimpleImputer(strategy='most_frequent', missing_values=pd.NA)\n",
    "df[['Geography']] = imputer.fit_transform(df[['Geography']])\n",
    "df['Geography'].value_counts(dropna=False)"
   ],
   "metadata": {
    "collapsed": false,
    "ExecuteTime": {
     "end_time": "2024-03-26T11:39:35.167437Z",
     "start_time": "2024-03-26T11:39:35.158173Z"
    }
   },
   "id": "ae2864b7fad11c81",
   "execution_count": 14
  },
  {
   "cell_type": "code",
   "outputs": [
    {
     "name": "stdout",
     "output_type": "stream",
     "text": [
      "(9000, 3)\n"
     ]
    }
   ],
   "source": [
    "from sklearn.preprocessing import OneHotEncoder\n",
    "\n",
    "encoder = OneHotEncoder(sparse_output=False)\n",
    "gender_encoded = encoder.fit_transform(df[['Geography']])\n",
    "\n",
    "# 检查编码后的结果形状\n",
    "print(gender_encoded.shape)\n"
   ],
   "metadata": {
    "collapsed": false,
    "ExecuteTime": {
     "end_time": "2024-03-26T11:40:21.928913Z",
     "start_time": "2024-03-26T11:40:21.920718Z"
    }
   },
   "id": "bc1e9fe5c7c8acc8",
   "execution_count": 17
  },
  {
   "cell_type": "code",
   "outputs": [
    {
     "data": {
      "text/plain": "      RowNumber  CustomerId      Surname  CreditScore  Gender   Age  Tenure  \\\n0             1    15634602     Hargrave          619  Female  42.0       2   \n1             2    15647311         Hill          608  Female  41.0       1   \n2             3    15619304         Onio          502  Female  42.0       8   \n3             4    15701354         Boni          699  Female  39.0       1   \n4             5    15737888     Mitchell          850  Female  43.0       2   \n...         ...         ...          ...          ...     ...   ...     ...   \n8995       8996    15580623    Yefremova          573    Male  28.0       8   \n8996       8997    15578156  Anenechukwu          615    Male  32.0       5   \n8997       8998    15631063     Trentino          710  Female  33.0       2   \n8998       8999    15692577    Tomlinson          674  Female  38.0      10   \n8999       9000    15810910      Royston          702  Female  38.0       9   \n\n        Balance  NumOfProducts  HasCrCard  IsActiveMember  EstimatedSalary  \\\n0          0.00              1        1.0             1.0        101348.88   \n1      83807.86              1        0.0             1.0        112542.58   \n2     159660.80              3        1.0             0.0        113931.57   \n3          0.00              2        0.0             0.0         93826.63   \n4     125510.82              1        NaN             1.0         79084.10   \n...         ...            ...        ...             ...              ...   \n8995       0.00              2        0.0             0.0         77660.03   \n8996  138521.83              1        1.0             1.0         56897.10   \n8997       0.00              2        1.0             0.0         72945.32   \n8998   83727.68              1        1.0             0.0         45418.12   \n8999       0.00              2        1.0             1.0        158527.45   \n\n      Exited  Geography_France  Geography_Germany  Geography_Spain  \n0          1               1.0                0.0              0.0  \n1          0               0.0                0.0              1.0  \n2          1               1.0                0.0              0.0  \n3          0               1.0                0.0              0.0  \n4          0               0.0                0.0              1.0  \n...      ...               ...                ...              ...  \n8995       0               0.0                0.0              1.0  \n8996       0               0.0                0.0              1.0  \n8997       0               1.0                0.0              0.0  \n8998       0               0.0                1.0              0.0  \n8999       0               0.0                0.0              1.0  \n\n[9000 rows x 16 columns]",
      "text/html": "<div>\n<style scoped>\n    .dataframe tbody tr th:only-of-type {\n        vertical-align: middle;\n    }\n\n    .dataframe tbody tr th {\n        vertical-align: top;\n    }\n\n    .dataframe thead th {\n        text-align: right;\n    }\n</style>\n<table border=\"1\" class=\"dataframe\">\n  <thead>\n    <tr style=\"text-align: right;\">\n      <th></th>\n      <th>RowNumber</th>\n      <th>CustomerId</th>\n      <th>Surname</th>\n      <th>CreditScore</th>\n      <th>Gender</th>\n      <th>Age</th>\n      <th>Tenure</th>\n      <th>Balance</th>\n      <th>NumOfProducts</th>\n      <th>HasCrCard</th>\n      <th>IsActiveMember</th>\n      <th>EstimatedSalary</th>\n      <th>Exited</th>\n      <th>Geography_France</th>\n      <th>Geography_Germany</th>\n      <th>Geography_Spain</th>\n    </tr>\n  </thead>\n  <tbody>\n    <tr>\n      <th>0</th>\n      <td>1</td>\n      <td>15634602</td>\n      <td>Hargrave</td>\n      <td>619</td>\n      <td>Female</td>\n      <td>42.0</td>\n      <td>2</td>\n      <td>0.00</td>\n      <td>1</td>\n      <td>1.0</td>\n      <td>1.0</td>\n      <td>101348.88</td>\n      <td>1</td>\n      <td>1.0</td>\n      <td>0.0</td>\n      <td>0.0</td>\n    </tr>\n    <tr>\n      <th>1</th>\n      <td>2</td>\n      <td>15647311</td>\n      <td>Hill</td>\n      <td>608</td>\n      <td>Female</td>\n      <td>41.0</td>\n      <td>1</td>\n      <td>83807.86</td>\n      <td>1</td>\n      <td>0.0</td>\n      <td>1.0</td>\n      <td>112542.58</td>\n      <td>0</td>\n      <td>0.0</td>\n      <td>0.0</td>\n      <td>1.0</td>\n    </tr>\n    <tr>\n      <th>2</th>\n      <td>3</td>\n      <td>15619304</td>\n      <td>Onio</td>\n      <td>502</td>\n      <td>Female</td>\n      <td>42.0</td>\n      <td>8</td>\n      <td>159660.80</td>\n      <td>3</td>\n      <td>1.0</td>\n      <td>0.0</td>\n      <td>113931.57</td>\n      <td>1</td>\n      <td>1.0</td>\n      <td>0.0</td>\n      <td>0.0</td>\n    </tr>\n    <tr>\n      <th>3</th>\n      <td>4</td>\n      <td>15701354</td>\n      <td>Boni</td>\n      <td>699</td>\n      <td>Female</td>\n      <td>39.0</td>\n      <td>1</td>\n      <td>0.00</td>\n      <td>2</td>\n      <td>0.0</td>\n      <td>0.0</td>\n      <td>93826.63</td>\n      <td>0</td>\n      <td>1.0</td>\n      <td>0.0</td>\n      <td>0.0</td>\n    </tr>\n    <tr>\n      <th>4</th>\n      <td>5</td>\n      <td>15737888</td>\n      <td>Mitchell</td>\n      <td>850</td>\n      <td>Female</td>\n      <td>43.0</td>\n      <td>2</td>\n      <td>125510.82</td>\n      <td>1</td>\n      <td>NaN</td>\n      <td>1.0</td>\n      <td>79084.10</td>\n      <td>0</td>\n      <td>0.0</td>\n      <td>0.0</td>\n      <td>1.0</td>\n    </tr>\n    <tr>\n      <th>...</th>\n      <td>...</td>\n      <td>...</td>\n      <td>...</td>\n      <td>...</td>\n      <td>...</td>\n      <td>...</td>\n      <td>...</td>\n      <td>...</td>\n      <td>...</td>\n      <td>...</td>\n      <td>...</td>\n      <td>...</td>\n      <td>...</td>\n      <td>...</td>\n      <td>...</td>\n      <td>...</td>\n    </tr>\n    <tr>\n      <th>8995</th>\n      <td>8996</td>\n      <td>15580623</td>\n      <td>Yefremova</td>\n      <td>573</td>\n      <td>Male</td>\n      <td>28.0</td>\n      <td>8</td>\n      <td>0.00</td>\n      <td>2</td>\n      <td>0.0</td>\n      <td>0.0</td>\n      <td>77660.03</td>\n      <td>0</td>\n      <td>0.0</td>\n      <td>0.0</td>\n      <td>1.0</td>\n    </tr>\n    <tr>\n      <th>8996</th>\n      <td>8997</td>\n      <td>15578156</td>\n      <td>Anenechukwu</td>\n      <td>615</td>\n      <td>Male</td>\n      <td>32.0</td>\n      <td>5</td>\n      <td>138521.83</td>\n      <td>1</td>\n      <td>1.0</td>\n      <td>1.0</td>\n      <td>56897.10</td>\n      <td>0</td>\n      <td>0.0</td>\n      <td>0.0</td>\n      <td>1.0</td>\n    </tr>\n    <tr>\n      <th>8997</th>\n      <td>8998</td>\n      <td>15631063</td>\n      <td>Trentino</td>\n      <td>710</td>\n      <td>Female</td>\n      <td>33.0</td>\n      <td>2</td>\n      <td>0.00</td>\n      <td>2</td>\n      <td>1.0</td>\n      <td>0.0</td>\n      <td>72945.32</td>\n      <td>0</td>\n      <td>1.0</td>\n      <td>0.0</td>\n      <td>0.0</td>\n    </tr>\n    <tr>\n      <th>8998</th>\n      <td>8999</td>\n      <td>15692577</td>\n      <td>Tomlinson</td>\n      <td>674</td>\n      <td>Female</td>\n      <td>38.0</td>\n      <td>10</td>\n      <td>83727.68</td>\n      <td>1</td>\n      <td>1.0</td>\n      <td>0.0</td>\n      <td>45418.12</td>\n      <td>0</td>\n      <td>0.0</td>\n      <td>1.0</td>\n      <td>0.0</td>\n    </tr>\n    <tr>\n      <th>8999</th>\n      <td>9000</td>\n      <td>15810910</td>\n      <td>Royston</td>\n      <td>702</td>\n      <td>Female</td>\n      <td>38.0</td>\n      <td>9</td>\n      <td>0.00</td>\n      <td>2</td>\n      <td>1.0</td>\n      <td>1.0</td>\n      <td>158527.45</td>\n      <td>0</td>\n      <td>0.0</td>\n      <td>0.0</td>\n      <td>1.0</td>\n    </tr>\n  </tbody>\n</table>\n<p>9000 rows × 16 columns</p>\n</div>"
     },
     "execution_count": 18,
     "metadata": {},
     "output_type": "execute_result"
    }
   ],
   "source": [
    "# 将编码后的数据转换为DataFrame\n",
    "gender_encoded_df = pd.DataFrame(gender_encoded, columns=encoder.get_feature_names_out(['Geography']))\n",
    "\n",
    "# 合并前确保索引对齐\n",
    "df = df.reset_index(drop=True)\n",
    "gender_encoded_df = gender_encoded_df.reset_index(drop=True)\n",
    "\n",
    "# 合并DataFrame\n",
    "df = pd.concat([df.drop('Geography', axis=1), gender_encoded_df], axis=1)\n",
    "df"
   ],
   "metadata": {
    "collapsed": false,
    "ExecuteTime": {
     "end_time": "2024-03-26T11:40:22.282276Z",
     "start_time": "2024-03-26T11:40:22.269908Z"
    }
   },
   "id": "718b4c20a637f8eb",
   "execution_count": 18
  },
  {
   "cell_type": "code",
   "outputs": [],
   "source": [],
   "metadata": {
    "collapsed": false
   },
   "id": "4422342aa7cfd6b8"
  }
 ],
 "metadata": {
  "kernelspec": {
   "display_name": "Python 3",
   "language": "python",
   "name": "python3"
  },
  "language_info": {
   "codemirror_mode": {
    "name": "ipython",
    "version": 2
   },
   "file_extension": ".py",
   "mimetype": "text/x-python",
   "name": "python",
   "nbconvert_exporter": "python",
   "pygments_lexer": "ipython2",
   "version": "2.7.6"
  }
 },
 "nbformat": 4,
 "nbformat_minor": 5
}
