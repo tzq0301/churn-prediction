{
 "cells": [
  {
   "cell_type": "code",
   "execution_count": 112,
   "id": "initial_id",
   "metadata": {
    "collapsed": true,
    "ExecuteTime": {
     "end_time": "2024-03-26T12:34:08.889257Z",
     "start_time": "2024-03-26T12:34:08.882026Z"
    }
   },
   "outputs": [],
   "source": [
    "from sklearn.impute import SimpleImputer\n",
    "import numpy as np\n",
    "import pandas as pd"
   ]
  },
  {
   "cell_type": "code",
   "outputs": [],
   "source": [
    "df = pd.read_csv('../data/train.csv')\n",
    "\n",
    "# 为分类变量填充众数\n",
    "# for column in ['Geography', 'HasCrCard', 'IsActiveMember']:\n",
    "#     mode_imputer = SimpleImputer(strategy='most_frequent')\n",
    "#     df[column] = mode_imputer.fit_transform(df[[column]])\n",
    "\n",
    "# 为数值变量'Age'填充中位数（你也可以选择均值，这取决于数据分布）\n",
    "# median_imputer = SimpleImputer(strategy='median')\n",
    "# df['Age'] = median_imputer.fit_transform(df[['Age']])"
   ],
   "metadata": {
    "collapsed": false,
    "ExecuteTime": {
     "end_time": "2024-03-26T12:34:09.684920Z",
     "start_time": "2024-03-26T12:34:09.668146Z"
    }
   },
   "id": "869b26feb5e8f3a",
   "execution_count": 113
  },
  {
   "cell_type": "code",
   "outputs": [
    {
     "data": {
      "text/plain": "Gender\nMale      4897\nFemale    4103\nName: count, dtype: int64"
     },
     "execution_count": 114,
     "metadata": {},
     "output_type": "execute_result"
    }
   ],
   "source": [
    "df['Gender'].value_counts(dropna=False)"
   ],
   "metadata": {
    "collapsed": false,
    "ExecuteTime": {
     "end_time": "2024-03-26T12:34:11.029898Z",
     "start_time": "2024-03-26T12:34:11.021954Z"
    }
   },
   "id": "982b9e2461154800",
   "execution_count": 114
  },
  {
   "cell_type": "code",
   "outputs": [
    {
     "data": {
      "text/plain": "Age\n37.00    437\n38.00    434\n35.00    425\n36.00    405\n34.00    404\n        ... \n88.00      1\n85.00      1\n45.25      1\n32.34      1\n36.44      1\nName: count, Length: 73, dtype: int64"
     },
     "execution_count": 115,
     "metadata": {},
     "output_type": "execute_result"
    }
   ],
   "source": [
    "df['Age'].value_counts(dropna=False)"
   ],
   "metadata": {
    "collapsed": false,
    "ExecuteTime": {
     "end_time": "2024-03-26T12:34:12.992673Z",
     "start_time": "2024-03-26T12:34:12.986799Z"
    }
   },
   "id": "2f8d68decee51bbb",
   "execution_count": 115
  },
  {
   "cell_type": "code",
   "outputs": [
    {
     "data": {
      "text/plain": "Age\n37.00    438\n38.00    434\n35.00    425\n36.00    405\n34.00    404\n        ... \n88.00      1\n85.00      1\n36.44      1\n45.25      1\n32.34      1\nName: count, Length: 72, dtype: int64"
     },
     "execution_count": 126,
     "metadata": {},
     "output_type": "execute_result"
    }
   ],
   "source": [
    "median_imputer = SimpleImputer(strategy='median')\n",
    "df[['Age']] = median_imputer.fit_transform(df[['Age']])\n",
    "df['Age'].value_counts(dropna=False)"
   ],
   "metadata": {
    "collapsed": false,
    "ExecuteTime": {
     "end_time": "2024-03-26T12:35:12.452834Z",
     "start_time": "2024-03-26T12:35:12.443498Z"
    }
   },
   "id": "b0ef8f3e5c6be2b9",
   "execution_count": 126
  },
  {
   "cell_type": "code",
   "outputs": [
    {
     "data": {
      "text/plain": "HasCrCard\n1.0    6320\n0.0    2679\nNaN       1\nName: count, dtype: int64"
     },
     "execution_count": 117,
     "metadata": {},
     "output_type": "execute_result"
    }
   ],
   "source": [
    "df['HasCrCard'].value_counts(dropna=False)"
   ],
   "metadata": {
    "collapsed": false,
    "ExecuteTime": {
     "end_time": "2024-03-26T12:34:16.932964Z",
     "start_time": "2024-03-26T12:34:16.925967Z"
    }
   },
   "id": "5f554c263ace1762",
   "execution_count": 117
  },
  {
   "cell_type": "code",
   "outputs": [
    {
     "data": {
      "text/plain": "IsActiveMember\n1.0    4621\n0.0    4378\nNaN       1\nName: count, dtype: int64"
     },
     "execution_count": 118,
     "metadata": {},
     "output_type": "execute_result"
    }
   ],
   "source": [
    "df['IsActiveMember'].value_counts(dropna=False)"
   ],
   "metadata": {
    "collapsed": false,
    "ExecuteTime": {
     "end_time": "2024-03-26T12:34:19.028804Z",
     "start_time": "2024-03-26T12:34:19.024573Z"
    }
   },
   "id": "377f0725299524da",
   "execution_count": 118
  },
  {
   "cell_type": "code",
   "outputs": [],
   "source": [
    "for column in ['HasCrCard', 'IsActiveMember', 'Geography']:\n",
    "    mode_imputer = SimpleImputer(strategy='most_frequent')\n",
    "    df[[column]] = mode_imputer.fit_transform(df[[column]])"
   ],
   "metadata": {
    "collapsed": false,
    "ExecuteTime": {
     "end_time": "2024-03-26T12:34:51.817329Z",
     "start_time": "2024-03-26T12:34:51.806154Z"
    }
   },
   "id": "e3db3d5d444d8441",
   "execution_count": 122
  },
  {
   "cell_type": "code",
   "outputs": [
    {
     "data": {
      "text/plain": "HasCrCard\n1.0    6321\n0.0    2679\nName: count, dtype: int64"
     },
     "execution_count": 123,
     "metadata": {},
     "output_type": "execute_result"
    }
   ],
   "source": [
    "df['HasCrCard'].value_counts(dropna=False)"
   ],
   "metadata": {
    "collapsed": false,
    "ExecuteTime": {
     "end_time": "2024-03-26T12:34:53.474400Z",
     "start_time": "2024-03-26T12:34:53.468616Z"
    }
   },
   "id": "2380a6773c34347c",
   "execution_count": 123
  },
  {
   "cell_type": "code",
   "outputs": [
    {
     "data": {
      "text/plain": "IsActiveMember\n1.0    4622\n0.0    4378\nName: count, dtype: int64"
     },
     "execution_count": 124,
     "metadata": {},
     "output_type": "execute_result"
    }
   ],
   "source": [
    "df['IsActiveMember'].value_counts(dropna=False)"
   ],
   "metadata": {
    "collapsed": false,
    "ExecuteTime": {
     "end_time": "2024-03-26T12:34:53.788561Z",
     "start_time": "2024-03-26T12:34:53.784374Z"
    }
   },
   "id": "7b4f1a7736ea304",
   "execution_count": 124
  },
  {
   "cell_type": "code",
   "outputs": [
    {
     "data": {
      "text/plain": "Geography\nFrance     4498\nSpain      2253\nGermany    2249\nName: count, dtype: int64"
     },
     "execution_count": 125,
     "metadata": {},
     "output_type": "execute_result"
    }
   ],
   "source": [
    "df['Geography'].value_counts(dropna=False)"
   ],
   "metadata": {
    "collapsed": false,
    "ExecuteTime": {
     "end_time": "2024-03-26T12:35:00.743221Z",
     "start_time": "2024-03-26T12:35:00.736975Z"
    }
   },
   "id": "3351731c4f08b786",
   "execution_count": 125
  },
  {
   "cell_type": "code",
   "outputs": [],
   "source": [
    "# df = pd.get_dummies(df, columns=['Gender'])\n",
    "# df.head(10)"
   ],
   "metadata": {
    "collapsed": false,
    "ExecuteTime": {
     "end_time": "2024-03-26T11:08:34.391715Z",
     "start_time": "2024-03-26T11:08:34.390084Z"
    }
   },
   "id": "a2ce878c78eef833",
   "execution_count": 83
  },
  {
   "cell_type": "code",
   "outputs": [
    {
     "data": {
      "text/plain": "   RowNumber  CustomerId   Surname  CreditScore Geography  Gender   Age  \\\n0          1    15634602  Hargrave          619    France  Female  42.0   \n1          2    15647311      Hill          608     Spain  Female  41.0   \n2          3    15619304      Onio          502    France  Female  42.0   \n3          4    15701354      Boni          699    France  Female  39.0   \n4          5    15737888  Mitchell          850     Spain  Female  43.0   \n5          6    15574012       Chu          645     Spain    Male  44.0   \n6          7    15592531  Bartlett          822       NaN    Male  50.0   \n7          8    15656148    Obinna          376   Germany  Female  29.0   \n8          9    15792365        He          501    France    Male  44.0   \n9         10    15592389        H?          684    France    Male  37.0   \n\n   Tenure    Balance  NumOfProducts  HasCrCard  IsActiveMember  \\\n0       2       0.00              1        1.0             1.0   \n1       1   83807.86              1        0.0             1.0   \n2       8  159660.80              3        1.0             0.0   \n3       1       0.00              2        0.0             0.0   \n4       2  125510.82              1        1.0             1.0   \n5       8  113755.78              2        1.0             0.0   \n6       7       0.00              2        1.0             1.0   \n7       4  115046.74              4        1.0             0.0   \n8       4  142051.07              2        0.0             1.0   \n9       2  134603.88              1        1.0             1.0   \n\n   EstimatedSalary  Exited  \n0        101348.88       1  \n1        112542.58       0  \n2        113931.57       1  \n3         93826.63       0  \n4         79084.10       0  \n5        149756.71       1  \n6         10062.80       0  \n7        119346.88       1  \n8         74940.50       0  \n9         71725.73       0  ",
      "text/html": "<div>\n<style scoped>\n    .dataframe tbody tr th:only-of-type {\n        vertical-align: middle;\n    }\n\n    .dataframe tbody tr th {\n        vertical-align: top;\n    }\n\n    .dataframe thead th {\n        text-align: right;\n    }\n</style>\n<table border=\"1\" class=\"dataframe\">\n  <thead>\n    <tr style=\"text-align: right;\">\n      <th></th>\n      <th>RowNumber</th>\n      <th>CustomerId</th>\n      <th>Surname</th>\n      <th>CreditScore</th>\n      <th>Geography</th>\n      <th>Gender</th>\n      <th>Age</th>\n      <th>Tenure</th>\n      <th>Balance</th>\n      <th>NumOfProducts</th>\n      <th>HasCrCard</th>\n      <th>IsActiveMember</th>\n      <th>EstimatedSalary</th>\n      <th>Exited</th>\n    </tr>\n  </thead>\n  <tbody>\n    <tr>\n      <th>0</th>\n      <td>1</td>\n      <td>15634602</td>\n      <td>Hargrave</td>\n      <td>619</td>\n      <td>France</td>\n      <td>Female</td>\n      <td>42.0</td>\n      <td>2</td>\n      <td>0.00</td>\n      <td>1</td>\n      <td>1.0</td>\n      <td>1.0</td>\n      <td>101348.88</td>\n      <td>1</td>\n    </tr>\n    <tr>\n      <th>1</th>\n      <td>2</td>\n      <td>15647311</td>\n      <td>Hill</td>\n      <td>608</td>\n      <td>Spain</td>\n      <td>Female</td>\n      <td>41.0</td>\n      <td>1</td>\n      <td>83807.86</td>\n      <td>1</td>\n      <td>0.0</td>\n      <td>1.0</td>\n      <td>112542.58</td>\n      <td>0</td>\n    </tr>\n    <tr>\n      <th>2</th>\n      <td>3</td>\n      <td>15619304</td>\n      <td>Onio</td>\n      <td>502</td>\n      <td>France</td>\n      <td>Female</td>\n      <td>42.0</td>\n      <td>8</td>\n      <td>159660.80</td>\n      <td>3</td>\n      <td>1.0</td>\n      <td>0.0</td>\n      <td>113931.57</td>\n      <td>1</td>\n    </tr>\n    <tr>\n      <th>3</th>\n      <td>4</td>\n      <td>15701354</td>\n      <td>Boni</td>\n      <td>699</td>\n      <td>France</td>\n      <td>Female</td>\n      <td>39.0</td>\n      <td>1</td>\n      <td>0.00</td>\n      <td>2</td>\n      <td>0.0</td>\n      <td>0.0</td>\n      <td>93826.63</td>\n      <td>0</td>\n    </tr>\n    <tr>\n      <th>4</th>\n      <td>5</td>\n      <td>15737888</td>\n      <td>Mitchell</td>\n      <td>850</td>\n      <td>Spain</td>\n      <td>Female</td>\n      <td>43.0</td>\n      <td>2</td>\n      <td>125510.82</td>\n      <td>1</td>\n      <td>1.0</td>\n      <td>1.0</td>\n      <td>79084.10</td>\n      <td>0</td>\n    </tr>\n    <tr>\n      <th>5</th>\n      <td>6</td>\n      <td>15574012</td>\n      <td>Chu</td>\n      <td>645</td>\n      <td>Spain</td>\n      <td>Male</td>\n      <td>44.0</td>\n      <td>8</td>\n      <td>113755.78</td>\n      <td>2</td>\n      <td>1.0</td>\n      <td>0.0</td>\n      <td>149756.71</td>\n      <td>1</td>\n    </tr>\n    <tr>\n      <th>6</th>\n      <td>7</td>\n      <td>15592531</td>\n      <td>Bartlett</td>\n      <td>822</td>\n      <td>NaN</td>\n      <td>Male</td>\n      <td>50.0</td>\n      <td>7</td>\n      <td>0.00</td>\n      <td>2</td>\n      <td>1.0</td>\n      <td>1.0</td>\n      <td>10062.80</td>\n      <td>0</td>\n    </tr>\n    <tr>\n      <th>7</th>\n      <td>8</td>\n      <td>15656148</td>\n      <td>Obinna</td>\n      <td>376</td>\n      <td>Germany</td>\n      <td>Female</td>\n      <td>29.0</td>\n      <td>4</td>\n      <td>115046.74</td>\n      <td>4</td>\n      <td>1.0</td>\n      <td>0.0</td>\n      <td>119346.88</td>\n      <td>1</td>\n    </tr>\n    <tr>\n      <th>8</th>\n      <td>9</td>\n      <td>15792365</td>\n      <td>He</td>\n      <td>501</td>\n      <td>France</td>\n      <td>Male</td>\n      <td>44.0</td>\n      <td>4</td>\n      <td>142051.07</td>\n      <td>2</td>\n      <td>0.0</td>\n      <td>1.0</td>\n      <td>74940.50</td>\n      <td>0</td>\n    </tr>\n    <tr>\n      <th>9</th>\n      <td>10</td>\n      <td>15592389</td>\n      <td>H?</td>\n      <td>684</td>\n      <td>France</td>\n      <td>Male</td>\n      <td>37.0</td>\n      <td>2</td>\n      <td>134603.88</td>\n      <td>1</td>\n      <td>1.0</td>\n      <td>1.0</td>\n      <td>71725.73</td>\n      <td>0</td>\n    </tr>\n  </tbody>\n</table>\n</div>"
     },
     "execution_count": 84,
     "metadata": {},
     "output_type": "execute_result"
    }
   ],
   "source": [
    "df.head(10)"
   ],
   "metadata": {
    "collapsed": false,
    "ExecuteTime": {
     "end_time": "2024-03-26T11:08:34.400541Z",
     "start_time": "2024-03-26T11:08:34.392983Z"
    }
   },
   "id": "35fe6daf24ca8f4f",
   "execution_count": 84
  },
  {
   "cell_type": "code",
   "outputs": [
    {
     "name": "stdout",
     "output_type": "stream",
     "text": [
      "['Female' 'Male']\n"
     ]
    }
   ],
   "source": [
    "unique_genders = df['Gender'].unique()\n",
    "print(unique_genders)"
   ],
   "metadata": {
    "collapsed": false,
    "ExecuteTime": {
     "end_time": "2024-03-26T11:08:34.404147Z",
     "start_time": "2024-03-26T11:08:34.401583Z"
    }
   },
   "id": "f1501f60e19b7c16",
   "execution_count": 85
  },
  {
   "cell_type": "code",
   "outputs": [
    {
     "name": "stdout",
     "output_type": "stream",
     "text": [
      "(9000, 2)\n"
     ]
    }
   ],
   "source": [
    "from sklearn.preprocessing import OneHotEncoder\n",
    "\n",
    "encoder = OneHotEncoder(sparse_output=False)\n",
    "gender_encoded = encoder.fit_transform(df[['Gender']])\n",
    "\n",
    "# 检查编码后的结果形状\n",
    "print(gender_encoded.shape)\n"
   ],
   "metadata": {
    "collapsed": false,
    "ExecuteTime": {
     "end_time": "2024-03-26T11:08:34.410170Z",
     "start_time": "2024-03-26T11:08:34.405464Z"
    }
   },
   "id": "8ef74db14291fa39",
   "execution_count": 86
  },
  {
   "cell_type": "code",
   "outputs": [],
   "source": [
    "# 将编码后的数据转换为DataFrame\n",
    "gender_encoded_df = pd.DataFrame(gender_encoded, columns=encoder.get_feature_names_out(['Gender']))\n",
    "\n",
    "# 合并前确保索引对齐\n",
    "df = df.reset_index(drop=True)\n",
    "gender_encoded_df = gender_encoded_df.reset_index(drop=True)\n",
    "\n",
    "# 合并DataFrame\n",
    "df = pd.concat([df.drop('Gender', axis=1), gender_encoded_df], axis=1)\n"
   ],
   "metadata": {
    "collapsed": false,
    "ExecuteTime": {
     "end_time": "2024-03-26T11:08:34.431248Z",
     "start_time": "2024-03-26T11:08:34.426919Z"
    }
   },
   "id": "d2ca46d2e0a97265",
   "execution_count": 87
  },
  {
   "cell_type": "code",
   "outputs": [],
   "source": [
    "# from sklearn.preprocessing import OneHotEncoder\n",
    "# \n",
    "# # 假设df是你的DataFrame，'Gender'是需要编码的列\n",
    "# encoder = OneHotEncoder()\n",
    "# gender_encoded = encoder.fit_transform(df[['Gender']])\n",
    "# \n",
    "# # 转换为DataFrame\n",
    "# gender_encoded_df = pd.DataFrame(gender_encoded, columns=encoder.get_feature_names_out(['Gender']))\n",
    "# \n",
    "# # 在合并之前，确保索引对齐\n",
    "# df = df.reset_index(drop=True)\n",
    "# gender_encoded_df = gender_encoded_df.reset_index(drop=True)\n",
    "# \n",
    "# # 合并编码后的列回原始DataFrame\n",
    "# df = pd.concat([df, gender_encoded_df], axis=1).drop('Gender', axis=1)\n",
    "# df"
   ],
   "metadata": {
    "collapsed": false,
    "ExecuteTime": {
     "end_time": "2024-03-26T11:08:34.434419Z",
     "start_time": "2024-03-26T11:08:34.432525Z"
    }
   },
   "id": "9886f5c4807b9cfe",
   "execution_count": 88
  },
  {
   "cell_type": "code",
   "outputs": [
    {
     "data": {
      "text/plain": "      RowNumber  CustomerId      Surname  CreditScore Geography   Age  Tenure  \\\n0             1    15634602     Hargrave          619    France  42.0       2   \n1             2    15647311         Hill          608     Spain  41.0       1   \n2             3    15619304         Onio          502    France  42.0       8   \n3             4    15701354         Boni          699    France  39.0       1   \n4             5    15737888     Mitchell          850     Spain  43.0       2   \n...         ...         ...          ...          ...       ...   ...     ...   \n8995       8996    15580623    Yefremova          573     Spain  28.0       8   \n8996       8997    15578156  Anenechukwu          615     Spain  32.0       5   \n8997       8998    15631063     Trentino          710    France  33.0       2   \n8998       8999    15692577    Tomlinson          674   Germany  38.0      10   \n8999       9000    15810910      Royston          702     Spain  38.0       9   \n\n        Balance  NumOfProducts  HasCrCard  IsActiveMember  EstimatedSalary  \\\n0          0.00              1        1.0             1.0        101348.88   \n1      83807.86              1        0.0             1.0        112542.58   \n2     159660.80              3        1.0             0.0        113931.57   \n3          0.00              2        0.0             0.0         93826.63   \n4     125510.82              1        1.0             1.0         79084.10   \n...         ...            ...        ...             ...              ...   \n8995       0.00              2        0.0             0.0         77660.03   \n8996  138521.83              1        1.0             1.0         56897.10   \n8997       0.00              2        1.0             0.0         72945.32   \n8998   83727.68              1        1.0             0.0         45418.12   \n8999       0.00              2        1.0             1.0        158527.45   \n\n      Exited  Gender_Female  Gender_Male  \n0          1            1.0          0.0  \n1          0            1.0          0.0  \n2          1            1.0          0.0  \n3          0            1.0          0.0  \n4          0            1.0          0.0  \n...      ...            ...          ...  \n8995       0            0.0          1.0  \n8996       0            0.0          1.0  \n8997       0            1.0          0.0  \n8998       0            1.0          0.0  \n8999       0            1.0          0.0  \n\n[9000 rows x 15 columns]",
      "text/html": "<div>\n<style scoped>\n    .dataframe tbody tr th:only-of-type {\n        vertical-align: middle;\n    }\n\n    .dataframe tbody tr th {\n        vertical-align: top;\n    }\n\n    .dataframe thead th {\n        text-align: right;\n    }\n</style>\n<table border=\"1\" class=\"dataframe\">\n  <thead>\n    <tr style=\"text-align: right;\">\n      <th></th>\n      <th>RowNumber</th>\n      <th>CustomerId</th>\n      <th>Surname</th>\n      <th>CreditScore</th>\n      <th>Geography</th>\n      <th>Age</th>\n      <th>Tenure</th>\n      <th>Balance</th>\n      <th>NumOfProducts</th>\n      <th>HasCrCard</th>\n      <th>IsActiveMember</th>\n      <th>EstimatedSalary</th>\n      <th>Exited</th>\n      <th>Gender_Female</th>\n      <th>Gender_Male</th>\n    </tr>\n  </thead>\n  <tbody>\n    <tr>\n      <th>0</th>\n      <td>1</td>\n      <td>15634602</td>\n      <td>Hargrave</td>\n      <td>619</td>\n      <td>France</td>\n      <td>42.0</td>\n      <td>2</td>\n      <td>0.00</td>\n      <td>1</td>\n      <td>1.0</td>\n      <td>1.0</td>\n      <td>101348.88</td>\n      <td>1</td>\n      <td>1.0</td>\n      <td>0.0</td>\n    </tr>\n    <tr>\n      <th>1</th>\n      <td>2</td>\n      <td>15647311</td>\n      <td>Hill</td>\n      <td>608</td>\n      <td>Spain</td>\n      <td>41.0</td>\n      <td>1</td>\n      <td>83807.86</td>\n      <td>1</td>\n      <td>0.0</td>\n      <td>1.0</td>\n      <td>112542.58</td>\n      <td>0</td>\n      <td>1.0</td>\n      <td>0.0</td>\n    </tr>\n    <tr>\n      <th>2</th>\n      <td>3</td>\n      <td>15619304</td>\n      <td>Onio</td>\n      <td>502</td>\n      <td>France</td>\n      <td>42.0</td>\n      <td>8</td>\n      <td>159660.80</td>\n      <td>3</td>\n      <td>1.0</td>\n      <td>0.0</td>\n      <td>113931.57</td>\n      <td>1</td>\n      <td>1.0</td>\n      <td>0.0</td>\n    </tr>\n    <tr>\n      <th>3</th>\n      <td>4</td>\n      <td>15701354</td>\n      <td>Boni</td>\n      <td>699</td>\n      <td>France</td>\n      <td>39.0</td>\n      <td>1</td>\n      <td>0.00</td>\n      <td>2</td>\n      <td>0.0</td>\n      <td>0.0</td>\n      <td>93826.63</td>\n      <td>0</td>\n      <td>1.0</td>\n      <td>0.0</td>\n    </tr>\n    <tr>\n      <th>4</th>\n      <td>5</td>\n      <td>15737888</td>\n      <td>Mitchell</td>\n      <td>850</td>\n      <td>Spain</td>\n      <td>43.0</td>\n      <td>2</td>\n      <td>125510.82</td>\n      <td>1</td>\n      <td>1.0</td>\n      <td>1.0</td>\n      <td>79084.10</td>\n      <td>0</td>\n      <td>1.0</td>\n      <td>0.0</td>\n    </tr>\n    <tr>\n      <th>...</th>\n      <td>...</td>\n      <td>...</td>\n      <td>...</td>\n      <td>...</td>\n      <td>...</td>\n      <td>...</td>\n      <td>...</td>\n      <td>...</td>\n      <td>...</td>\n      <td>...</td>\n      <td>...</td>\n      <td>...</td>\n      <td>...</td>\n      <td>...</td>\n      <td>...</td>\n    </tr>\n    <tr>\n      <th>8995</th>\n      <td>8996</td>\n      <td>15580623</td>\n      <td>Yefremova</td>\n      <td>573</td>\n      <td>Spain</td>\n      <td>28.0</td>\n      <td>8</td>\n      <td>0.00</td>\n      <td>2</td>\n      <td>0.0</td>\n      <td>0.0</td>\n      <td>77660.03</td>\n      <td>0</td>\n      <td>0.0</td>\n      <td>1.0</td>\n    </tr>\n    <tr>\n      <th>8996</th>\n      <td>8997</td>\n      <td>15578156</td>\n      <td>Anenechukwu</td>\n      <td>615</td>\n      <td>Spain</td>\n      <td>32.0</td>\n      <td>5</td>\n      <td>138521.83</td>\n      <td>1</td>\n      <td>1.0</td>\n      <td>1.0</td>\n      <td>56897.10</td>\n      <td>0</td>\n      <td>0.0</td>\n      <td>1.0</td>\n    </tr>\n    <tr>\n      <th>8997</th>\n      <td>8998</td>\n      <td>15631063</td>\n      <td>Trentino</td>\n      <td>710</td>\n      <td>France</td>\n      <td>33.0</td>\n      <td>2</td>\n      <td>0.00</td>\n      <td>2</td>\n      <td>1.0</td>\n      <td>0.0</td>\n      <td>72945.32</td>\n      <td>0</td>\n      <td>1.0</td>\n      <td>0.0</td>\n    </tr>\n    <tr>\n      <th>8998</th>\n      <td>8999</td>\n      <td>15692577</td>\n      <td>Tomlinson</td>\n      <td>674</td>\n      <td>Germany</td>\n      <td>38.0</td>\n      <td>10</td>\n      <td>83727.68</td>\n      <td>1</td>\n      <td>1.0</td>\n      <td>0.0</td>\n      <td>45418.12</td>\n      <td>0</td>\n      <td>1.0</td>\n      <td>0.0</td>\n    </tr>\n    <tr>\n      <th>8999</th>\n      <td>9000</td>\n      <td>15810910</td>\n      <td>Royston</td>\n      <td>702</td>\n      <td>Spain</td>\n      <td>38.0</td>\n      <td>9</td>\n      <td>0.00</td>\n      <td>2</td>\n      <td>1.0</td>\n      <td>1.0</td>\n      <td>158527.45</td>\n      <td>0</td>\n      <td>1.0</td>\n      <td>0.0</td>\n    </tr>\n  </tbody>\n</table>\n<p>9000 rows × 15 columns</p>\n</div>"
     },
     "execution_count": 89,
     "metadata": {},
     "output_type": "execute_result"
    }
   ],
   "source": [
    "df"
   ],
   "metadata": {
    "collapsed": false,
    "ExecuteTime": {
     "end_time": "2024-03-26T11:08:39.527066Z",
     "start_time": "2024-03-26T11:08:39.517543Z"
    }
   },
   "id": "216b278f93b5a59e",
   "execution_count": 89
  },
  {
   "cell_type": "code",
   "outputs": [
    {
     "data": {
      "text/plain": "Geography\nFrance     4497\nSpain      2253\nGermany    2249\nNaN           1\nName: count, dtype: int64"
     },
     "execution_count": 104,
     "metadata": {},
     "output_type": "execute_result"
    }
   ],
   "source": [
    "df['Geography'].value_counts(dropna=False)"
   ],
   "metadata": {
    "collapsed": false,
    "ExecuteTime": {
     "end_time": "2024-03-26T11:33:21.832345Z",
     "start_time": "2024-03-26T11:33:21.826081Z"
    }
   },
   "id": "73785aa6c6a51371",
   "execution_count": 104
  },
  {
   "cell_type": "code",
   "outputs": [
    {
     "data": {
      "text/plain": "      RowNumber  CustomerId      Surname  CreditScore Geography  Gender   Age  \\\n0             1    15634602     Hargrave          619    France  Female  42.0   \n1             2    15647311         Hill          608     Spain  Female  41.0   \n2             3    15619304         Onio          502    France  Female  42.0   \n3             4    15701354         Boni          699    France  Female  39.0   \n4             5    15737888     Mitchell          850     Spain  Female  43.0   \n...         ...         ...          ...          ...       ...     ...   ...   \n8995       8996    15580623    Yefremova          573     Spain    Male  28.0   \n8996       8997    15578156  Anenechukwu          615     Spain    Male  32.0   \n8997       8998    15631063     Trentino          710    France  Female  33.0   \n8998       8999    15692577    Tomlinson          674   Germany  Female  38.0   \n8999       9000    15810910      Royston          702     Spain  Female  38.0   \n\n      Tenure    Balance  NumOfProducts  HasCrCard  IsActiveMember  \\\n0          2       0.00              1        1.0             1.0   \n1          1   83807.86              1        0.0             1.0   \n2          8  159660.80              3        1.0             0.0   \n3          1       0.00              2        0.0             0.0   \n4          2  125510.82              1        NaN             1.0   \n...      ...        ...            ...        ...             ...   \n8995       8       0.00              2        0.0             0.0   \n8996       5  138521.83              1        1.0             1.0   \n8997       2       0.00              2        1.0             0.0   \n8998      10   83727.68              1        1.0             0.0   \n8999       9       0.00              2        1.0             1.0   \n\n      EstimatedSalary  Exited  \n0           101348.88       1  \n1           112542.58       0  \n2           113931.57       1  \n3            93826.63       0  \n4            79084.10       0  \n...               ...     ...  \n8995         77660.03       0  \n8996         56897.10       0  \n8997         72945.32       0  \n8998         45418.12       0  \n8999        158527.45       0  \n\n[9000 rows x 14 columns]",
      "text/html": "<div>\n<style scoped>\n    .dataframe tbody tr th:only-of-type {\n        vertical-align: middle;\n    }\n\n    .dataframe tbody tr th {\n        vertical-align: top;\n    }\n\n    .dataframe thead th {\n        text-align: right;\n    }\n</style>\n<table border=\"1\" class=\"dataframe\">\n  <thead>\n    <tr style=\"text-align: right;\">\n      <th></th>\n      <th>RowNumber</th>\n      <th>CustomerId</th>\n      <th>Surname</th>\n      <th>CreditScore</th>\n      <th>Geography</th>\n      <th>Gender</th>\n      <th>Age</th>\n      <th>Tenure</th>\n      <th>Balance</th>\n      <th>NumOfProducts</th>\n      <th>HasCrCard</th>\n      <th>IsActiveMember</th>\n      <th>EstimatedSalary</th>\n      <th>Exited</th>\n    </tr>\n  </thead>\n  <tbody>\n    <tr>\n      <th>0</th>\n      <td>1</td>\n      <td>15634602</td>\n      <td>Hargrave</td>\n      <td>619</td>\n      <td>France</td>\n      <td>Female</td>\n      <td>42.0</td>\n      <td>2</td>\n      <td>0.00</td>\n      <td>1</td>\n      <td>1.0</td>\n      <td>1.0</td>\n      <td>101348.88</td>\n      <td>1</td>\n    </tr>\n    <tr>\n      <th>1</th>\n      <td>2</td>\n      <td>15647311</td>\n      <td>Hill</td>\n      <td>608</td>\n      <td>Spain</td>\n      <td>Female</td>\n      <td>41.0</td>\n      <td>1</td>\n      <td>83807.86</td>\n      <td>1</td>\n      <td>0.0</td>\n      <td>1.0</td>\n      <td>112542.58</td>\n      <td>0</td>\n    </tr>\n    <tr>\n      <th>2</th>\n      <td>3</td>\n      <td>15619304</td>\n      <td>Onio</td>\n      <td>502</td>\n      <td>France</td>\n      <td>Female</td>\n      <td>42.0</td>\n      <td>8</td>\n      <td>159660.80</td>\n      <td>3</td>\n      <td>1.0</td>\n      <td>0.0</td>\n      <td>113931.57</td>\n      <td>1</td>\n    </tr>\n    <tr>\n      <th>3</th>\n      <td>4</td>\n      <td>15701354</td>\n      <td>Boni</td>\n      <td>699</td>\n      <td>France</td>\n      <td>Female</td>\n      <td>39.0</td>\n      <td>1</td>\n      <td>0.00</td>\n      <td>2</td>\n      <td>0.0</td>\n      <td>0.0</td>\n      <td>93826.63</td>\n      <td>0</td>\n    </tr>\n    <tr>\n      <th>4</th>\n      <td>5</td>\n      <td>15737888</td>\n      <td>Mitchell</td>\n      <td>850</td>\n      <td>Spain</td>\n      <td>Female</td>\n      <td>43.0</td>\n      <td>2</td>\n      <td>125510.82</td>\n      <td>1</td>\n      <td>NaN</td>\n      <td>1.0</td>\n      <td>79084.10</td>\n      <td>0</td>\n    </tr>\n    <tr>\n      <th>...</th>\n      <td>...</td>\n      <td>...</td>\n      <td>...</td>\n      <td>...</td>\n      <td>...</td>\n      <td>...</td>\n      <td>...</td>\n      <td>...</td>\n      <td>...</td>\n      <td>...</td>\n      <td>...</td>\n      <td>...</td>\n      <td>...</td>\n      <td>...</td>\n    </tr>\n    <tr>\n      <th>8995</th>\n      <td>8996</td>\n      <td>15580623</td>\n      <td>Yefremova</td>\n      <td>573</td>\n      <td>Spain</td>\n      <td>Male</td>\n      <td>28.0</td>\n      <td>8</td>\n      <td>0.00</td>\n      <td>2</td>\n      <td>0.0</td>\n      <td>0.0</td>\n      <td>77660.03</td>\n      <td>0</td>\n    </tr>\n    <tr>\n      <th>8996</th>\n      <td>8997</td>\n      <td>15578156</td>\n      <td>Anenechukwu</td>\n      <td>615</td>\n      <td>Spain</td>\n      <td>Male</td>\n      <td>32.0</td>\n      <td>5</td>\n      <td>138521.83</td>\n      <td>1</td>\n      <td>1.0</td>\n      <td>1.0</td>\n      <td>56897.10</td>\n      <td>0</td>\n    </tr>\n    <tr>\n      <th>8997</th>\n      <td>8998</td>\n      <td>15631063</td>\n      <td>Trentino</td>\n      <td>710</td>\n      <td>France</td>\n      <td>Female</td>\n      <td>33.0</td>\n      <td>2</td>\n      <td>0.00</td>\n      <td>2</td>\n      <td>1.0</td>\n      <td>0.0</td>\n      <td>72945.32</td>\n      <td>0</td>\n    </tr>\n    <tr>\n      <th>8998</th>\n      <td>8999</td>\n      <td>15692577</td>\n      <td>Tomlinson</td>\n      <td>674</td>\n      <td>Germany</td>\n      <td>Female</td>\n      <td>38.0</td>\n      <td>10</td>\n      <td>83727.68</td>\n      <td>1</td>\n      <td>1.0</td>\n      <td>0.0</td>\n      <td>45418.12</td>\n      <td>0</td>\n    </tr>\n    <tr>\n      <th>8999</th>\n      <td>9000</td>\n      <td>15810910</td>\n      <td>Royston</td>\n      <td>702</td>\n      <td>Spain</td>\n      <td>Female</td>\n      <td>38.0</td>\n      <td>9</td>\n      <td>0.00</td>\n      <td>2</td>\n      <td>1.0</td>\n      <td>1.0</td>\n      <td>158527.45</td>\n      <td>0</td>\n    </tr>\n  </tbody>\n</table>\n<p>9000 rows × 14 columns</p>\n</div>"
     },
     "execution_count": 103,
     "metadata": {},
     "output_type": "execute_result"
    }
   ],
   "source": [
    "df"
   ],
   "metadata": {
    "collapsed": false,
    "ExecuteTime": {
     "end_time": "2024-03-26T11:33:19.670663Z",
     "start_time": "2024-03-26T11:33:19.657432Z"
    }
   },
   "id": "cb3466e3ba4c0ded",
   "execution_count": 103
  },
  {
   "cell_type": "code",
   "outputs": [
    {
     "ename": "ValueError",
     "evalue": "2",
     "output_type": "error",
     "traceback": [
      "\u001B[0;31m---------------------------------------------------------------------------\u001B[0m",
      "\u001B[0;31mValueError\u001B[0m                                Traceback (most recent call last)",
      "Cell \u001B[0;32mIn[111], line 2\u001B[0m\n\u001B[1;32m      1\u001B[0m imputer \u001B[38;5;241m=\u001B[39m SimpleImputer(strategy\u001B[38;5;241m=\u001B[39m\u001B[38;5;124m'\u001B[39m\u001B[38;5;124mmost_frequent\u001B[39m\u001B[38;5;124m'\u001B[39m, missing_values\u001B[38;5;241m=\u001B[39mpd\u001B[38;5;241m.\u001B[39mNA)\n\u001B[0;32m----> 2\u001B[0m \u001B[43mdf\u001B[49m\u001B[43m[\u001B[49m\u001B[38;5;124;43m'\u001B[39;49m\u001B[38;5;124;43mGeography\u001B[39;49m\u001B[38;5;124;43m'\u001B[39;49m\u001B[43m]\u001B[49m \u001B[38;5;241m=\u001B[39m imputer\u001B[38;5;241m.\u001B[39mfit_transform(df[[\u001B[38;5;124m'\u001B[39m\u001B[38;5;124mGeography\u001B[39m\u001B[38;5;124m'\u001B[39m]])\n",
      "File \u001B[0;32m~/PycharmProjects/churn/venv/lib/python3.9/site-packages/pandas/core/frame.py:4299\u001B[0m, in \u001B[0;36mDataFrame.__setitem__\u001B[0;34m(self, key, value)\u001B[0m\n\u001B[1;32m   4296\u001B[0m     \u001B[38;5;28mself\u001B[39m\u001B[38;5;241m.\u001B[39m_setitem_array([key], value)\n\u001B[1;32m   4297\u001B[0m \u001B[38;5;28;01melse\u001B[39;00m:\n\u001B[1;32m   4298\u001B[0m     \u001B[38;5;66;03m# set column\u001B[39;00m\n\u001B[0;32m-> 4299\u001B[0m     \u001B[38;5;28;43mself\u001B[39;49m\u001B[38;5;241;43m.\u001B[39;49m\u001B[43m_set_item\u001B[49m\u001B[43m(\u001B[49m\u001B[43mkey\u001B[49m\u001B[43m,\u001B[49m\u001B[43m \u001B[49m\u001B[43mvalue\u001B[49m\u001B[43m)\u001B[49m\n",
      "File \u001B[0;32m~/PycharmProjects/churn/venv/lib/python3.9/site-packages/pandas/core/frame.py:4512\u001B[0m, in \u001B[0;36mDataFrame._set_item\u001B[0;34m(self, key, value)\u001B[0m\n\u001B[1;32m   4502\u001B[0m \u001B[38;5;28;01mdef\u001B[39;00m \u001B[38;5;21m_set_item\u001B[39m(\u001B[38;5;28mself\u001B[39m, key, value) \u001B[38;5;241m-\u001B[39m\u001B[38;5;241m>\u001B[39m \u001B[38;5;28;01mNone\u001B[39;00m:\n\u001B[1;32m   4503\u001B[0m \u001B[38;5;250m    \u001B[39m\u001B[38;5;124;03m\"\"\"\u001B[39;00m\n\u001B[1;32m   4504\u001B[0m \u001B[38;5;124;03m    Add series to DataFrame in specified column.\u001B[39;00m\n\u001B[1;32m   4505\u001B[0m \n\u001B[0;32m   (...)\u001B[0m\n\u001B[1;32m   4510\u001B[0m \u001B[38;5;124;03m    ensure homogeneity.\u001B[39;00m\n\u001B[1;32m   4511\u001B[0m \u001B[38;5;124;03m    \"\"\"\u001B[39;00m\n\u001B[0;32m-> 4512\u001B[0m     value, refs \u001B[38;5;241m=\u001B[39m \u001B[38;5;28;43mself\u001B[39;49m\u001B[38;5;241;43m.\u001B[39;49m\u001B[43m_sanitize_column\u001B[49m\u001B[43m(\u001B[49m\u001B[43mvalue\u001B[49m\u001B[43m)\u001B[49m\n\u001B[1;32m   4514\u001B[0m     \u001B[38;5;28;01mif\u001B[39;00m (\n\u001B[1;32m   4515\u001B[0m         key \u001B[38;5;129;01min\u001B[39;00m \u001B[38;5;28mself\u001B[39m\u001B[38;5;241m.\u001B[39mcolumns\n\u001B[1;32m   4516\u001B[0m         \u001B[38;5;129;01mand\u001B[39;00m value\u001B[38;5;241m.\u001B[39mndim \u001B[38;5;241m==\u001B[39m \u001B[38;5;241m1\u001B[39m\n\u001B[1;32m   4517\u001B[0m         \u001B[38;5;129;01mand\u001B[39;00m \u001B[38;5;129;01mnot\u001B[39;00m \u001B[38;5;28misinstance\u001B[39m(value\u001B[38;5;241m.\u001B[39mdtype, ExtensionDtype)\n\u001B[1;32m   4518\u001B[0m     ):\n\u001B[1;32m   4519\u001B[0m         \u001B[38;5;66;03m# broadcast across multiple columns if necessary\u001B[39;00m\n\u001B[1;32m   4520\u001B[0m         \u001B[38;5;28;01mif\u001B[39;00m \u001B[38;5;129;01mnot\u001B[39;00m \u001B[38;5;28mself\u001B[39m\u001B[38;5;241m.\u001B[39mcolumns\u001B[38;5;241m.\u001B[39mis_unique \u001B[38;5;129;01mor\u001B[39;00m \u001B[38;5;28misinstance\u001B[39m(\u001B[38;5;28mself\u001B[39m\u001B[38;5;241m.\u001B[39mcolumns, MultiIndex):\n",
      "File \u001B[0;32m~/PycharmProjects/churn/venv/lib/python3.9/site-packages/pandas/core/frame.py:5254\u001B[0m, in \u001B[0;36mDataFrame._sanitize_column\u001B[0;34m(self, value)\u001B[0m\n\u001B[1;32m   5252\u001B[0m \u001B[38;5;28;01mif\u001B[39;00m is_list_like(value):\n\u001B[1;32m   5253\u001B[0m     com\u001B[38;5;241m.\u001B[39mrequire_length_match(value, \u001B[38;5;28mself\u001B[39m\u001B[38;5;241m.\u001B[39mindex)\n\u001B[0;32m-> 5254\u001B[0m arr \u001B[38;5;241m=\u001B[39m \u001B[43msanitize_array\u001B[49m\u001B[43m(\u001B[49m\u001B[43mvalue\u001B[49m\u001B[43m,\u001B[49m\u001B[43m \u001B[49m\u001B[38;5;28;43mself\u001B[39;49m\u001B[38;5;241;43m.\u001B[39;49m\u001B[43mindex\u001B[49m\u001B[43m,\u001B[49m\u001B[43m \u001B[49m\u001B[43mcopy\u001B[49m\u001B[38;5;241;43m=\u001B[39;49m\u001B[38;5;28;43;01mTrue\u001B[39;49;00m\u001B[43m,\u001B[49m\u001B[43m \u001B[49m\u001B[43mallow_2d\u001B[49m\u001B[38;5;241;43m=\u001B[39;49m\u001B[38;5;28;43;01mTrue\u001B[39;49;00m\u001B[43m)\u001B[49m\n\u001B[1;32m   5255\u001B[0m \u001B[38;5;28;01mif\u001B[39;00m (\n\u001B[1;32m   5256\u001B[0m     \u001B[38;5;28misinstance\u001B[39m(value, Index)\n\u001B[1;32m   5257\u001B[0m     \u001B[38;5;129;01mand\u001B[39;00m value\u001B[38;5;241m.\u001B[39mdtype \u001B[38;5;241m==\u001B[39m \u001B[38;5;124m\"\u001B[39m\u001B[38;5;124mobject\u001B[39m\u001B[38;5;124m\"\u001B[39m\n\u001B[0;32m   (...)\u001B[0m\n\u001B[1;32m   5260\u001B[0m     \u001B[38;5;66;03m# TODO: Remove kludge in sanitize_array for string mode when enforcing\u001B[39;00m\n\u001B[1;32m   5261\u001B[0m     \u001B[38;5;66;03m# this deprecation\u001B[39;00m\n\u001B[1;32m   5262\u001B[0m     warnings\u001B[38;5;241m.\u001B[39mwarn(\n\u001B[1;32m   5263\u001B[0m         \u001B[38;5;124m\"\u001B[39m\u001B[38;5;124mSetting an Index with object dtype into a DataFrame will stop \u001B[39m\u001B[38;5;124m\"\u001B[39m\n\u001B[1;32m   5264\u001B[0m         \u001B[38;5;124m\"\u001B[39m\u001B[38;5;124minferring another dtype in a future version. Cast the Index \u001B[39m\u001B[38;5;124m\"\u001B[39m\n\u001B[0;32m   (...)\u001B[0m\n\u001B[1;32m   5267\u001B[0m         stacklevel\u001B[38;5;241m=\u001B[39mfind_stack_level(),\n\u001B[1;32m   5268\u001B[0m     )\n",
      "File \u001B[0;32m~/PycharmProjects/churn/venv/lib/python3.9/site-packages/pandas/core/construction.py:606\u001B[0m, in \u001B[0;36msanitize_array\u001B[0;34m(data, index, dtype, copy, allow_2d)\u001B[0m\n\u001B[1;32m    604\u001B[0m subarr \u001B[38;5;241m=\u001B[39m data\n\u001B[1;32m    605\u001B[0m \u001B[38;5;28;01mif\u001B[39;00m data\u001B[38;5;241m.\u001B[39mdtype \u001B[38;5;241m==\u001B[39m \u001B[38;5;28mobject\u001B[39m:\n\u001B[0;32m--> 606\u001B[0m     subarr \u001B[38;5;241m=\u001B[39m \u001B[43mmaybe_infer_to_datetimelike\u001B[49m\u001B[43m(\u001B[49m\u001B[43mdata\u001B[49m\u001B[43m)\u001B[49m\n\u001B[1;32m    607\u001B[0m     \u001B[38;5;28;01mif\u001B[39;00m (\n\u001B[1;32m    608\u001B[0m         object_index\n\u001B[1;32m    609\u001B[0m         \u001B[38;5;129;01mand\u001B[39;00m using_pyarrow_string_dtype()\n\u001B[1;32m    610\u001B[0m         \u001B[38;5;129;01mand\u001B[39;00m is_string_dtype(subarr)\n\u001B[1;32m    611\u001B[0m     ):\n\u001B[1;32m    612\u001B[0m         \u001B[38;5;66;03m# Avoid inference when string option is set\u001B[39;00m\n\u001B[1;32m    613\u001B[0m         subarr \u001B[38;5;241m=\u001B[39m data\n",
      "File \u001B[0;32m~/PycharmProjects/churn/venv/lib/python3.9/site-packages/pandas/core/dtypes/cast.py:1182\u001B[0m, in \u001B[0;36mmaybe_infer_to_datetimelike\u001B[0;34m(value)\u001B[0m\n\u001B[1;32m   1179\u001B[0m     \u001B[38;5;28;01mraise\u001B[39;00m \u001B[38;5;167;01mTypeError\u001B[39;00m(\u001B[38;5;28mtype\u001B[39m(value))  \u001B[38;5;66;03m# pragma: no cover\u001B[39;00m\n\u001B[1;32m   1180\u001B[0m \u001B[38;5;28;01mif\u001B[39;00m value\u001B[38;5;241m.\u001B[39mndim \u001B[38;5;241m!=\u001B[39m \u001B[38;5;241m1\u001B[39m:\n\u001B[1;32m   1181\u001B[0m     \u001B[38;5;66;03m# Caller is responsible\u001B[39;00m\n\u001B[0;32m-> 1182\u001B[0m     \u001B[38;5;28;01mraise\u001B[39;00m \u001B[38;5;167;01mValueError\u001B[39;00m(value\u001B[38;5;241m.\u001B[39mndim)  \u001B[38;5;66;03m# pragma: no cover\u001B[39;00m\n\u001B[1;32m   1184\u001B[0m \u001B[38;5;28;01mif\u001B[39;00m \u001B[38;5;129;01mnot\u001B[39;00m \u001B[38;5;28mlen\u001B[39m(value):\n\u001B[1;32m   1185\u001B[0m     \u001B[38;5;28;01mreturn\u001B[39;00m value\n",
      "\u001B[0;31mValueError\u001B[0m: 2"
     ]
    }
   ],
   "source": [
    "imputer = SimpleImputer(strategy='most_frequent', missing_values=pd.NA)\n",
    "df['Geography'] = imputer.fit_transform(df[['Geography']])"
   ],
   "metadata": {
    "collapsed": false,
    "ExecuteTime": {
     "end_time": "2024-03-26T11:35:18.227768Z",
     "start_time": "2024-03-26T11:35:18.178364Z"
    }
   },
   "id": "60f964cfe5f6c019",
   "execution_count": 111
  },
  {
   "cell_type": "code",
   "outputs": [],
   "source": [],
   "metadata": {
    "collapsed": false
   },
   "id": "d205c80c5880cc72"
  }
 ],
 "metadata": {
  "kernelspec": {
   "display_name": "Python 3",
   "language": "python",
   "name": "python3"
  },
  "language_info": {
   "codemirror_mode": {
    "name": "ipython",
    "version": 2
   },
   "file_extension": ".py",
   "mimetype": "text/x-python",
   "name": "python",
   "nbconvert_exporter": "python",
   "pygments_lexer": "ipython2",
   "version": "2.7.6"
  }
 },
 "nbformat": 4,
 "nbformat_minor": 5
}
