{
 "cells": [
  {
   "cell_type": "code",
   "execution_count": 1,
   "id": "initial_id",
   "metadata": {
    "collapsed": true,
    "ExecuteTime": {
     "end_time": "2024-03-26T14:31:37.355250Z",
     "start_time": "2024-03-26T14:31:36.341025Z"
    }
   },
   "outputs": [],
   "source": [
    "import argparse\n",
    "from typing import List\n",
    "\n",
    "import numpy as np\n",
    "import pandas as pd\n",
    "from pandas import DataFrame\n",
    "from sklearn.ensemble import GradientBoostingClassifier, RandomForestClassifier\n",
    "from sklearn.impute import SimpleImputer\n",
    "from sklearn.linear_model import LogisticRegression\n",
    "from sklearn.metrics import accuracy_score, classification_report\n",
    "from sklearn.model_selection import train_test_split\n",
    "from sklearn.neural_network import MLPClassifier\n",
    "from sklearn.preprocessing import OneHotEncoder, StandardScaler\n",
    "import structlog"
   ]
  },
  {
   "cell_type": "code",
   "outputs": [],
   "source": [
    "def load_data(filepath: str) -> DataFrame:\n",
    "    return pd.read_csv(filepath, index_col=0)"
   ],
   "metadata": {
    "collapsed": false,
    "ExecuteTime": {
     "end_time": "2024-03-26T14:31:42.729853Z",
     "start_time": "2024-03-26T14:31:42.727292Z"
    }
   },
   "id": "60060f9572f52fc2",
   "execution_count": 2
  },
  {
   "cell_type": "code",
   "outputs": [
    {
     "data": {
      "text/plain": "           CustomerId      Surname  CreditScore Geography  Gender   Age  \\\nRowNumber                                                                 \n1            15634602     Hargrave          619    France  Female  42.0   \n2            15647311         Hill          608     Spain  Female  41.0   \n3            15619304         Onio          502    France  Female  42.0   \n4            15701354         Boni          699    France  Female  39.0   \n5            15737888     Mitchell          850     Spain  Female  43.0   \n...               ...          ...          ...       ...     ...   ...   \n8996         15580623    Yefremova          573     Spain    Male  28.0   \n8997         15578156  Anenechukwu          615     Spain    Male  32.0   \n8998         15631063     Trentino          710    France  Female  33.0   \n8999         15692577    Tomlinson          674   Germany  Female  38.0   \n9000         15810910      Royston          702     Spain  Female  38.0   \n\n           Tenure    Balance  NumOfProducts  HasCrCard  IsActiveMember  \\\nRowNumber                                                                \n1               2       0.00              1        1.0             1.0   \n2               1   83807.86              1        0.0             1.0   \n3               8  159660.80              3        1.0             0.0   \n4               1       0.00              2        0.0             0.0   \n5               2  125510.82              1        NaN             1.0   \n...           ...        ...            ...        ...             ...   \n8996            8       0.00              2        0.0             0.0   \n8997            5  138521.83              1        1.0             1.0   \n8998            2       0.00              2        1.0             0.0   \n8999           10   83727.68              1        1.0             0.0   \n9000            9       0.00              2        1.0             1.0   \n\n           EstimatedSalary  Exited  \nRowNumber                           \n1                101348.88       1  \n2                112542.58       0  \n3                113931.57       1  \n4                 93826.63       0  \n5                 79084.10       0  \n...                    ...     ...  \n8996              77660.03       0  \n8997              56897.10       0  \n8998              72945.32       0  \n8999              45418.12       0  \n9000             158527.45       0  \n\n[9000 rows x 13 columns]",
      "text/html": "<div>\n<style scoped>\n    .dataframe tbody tr th:only-of-type {\n        vertical-align: middle;\n    }\n\n    .dataframe tbody tr th {\n        vertical-align: top;\n    }\n\n    .dataframe thead th {\n        text-align: right;\n    }\n</style>\n<table border=\"1\" class=\"dataframe\">\n  <thead>\n    <tr style=\"text-align: right;\">\n      <th></th>\n      <th>CustomerId</th>\n      <th>Surname</th>\n      <th>CreditScore</th>\n      <th>Geography</th>\n      <th>Gender</th>\n      <th>Age</th>\n      <th>Tenure</th>\n      <th>Balance</th>\n      <th>NumOfProducts</th>\n      <th>HasCrCard</th>\n      <th>IsActiveMember</th>\n      <th>EstimatedSalary</th>\n      <th>Exited</th>\n    </tr>\n    <tr>\n      <th>RowNumber</th>\n      <th></th>\n      <th></th>\n      <th></th>\n      <th></th>\n      <th></th>\n      <th></th>\n      <th></th>\n      <th></th>\n      <th></th>\n      <th></th>\n      <th></th>\n      <th></th>\n      <th></th>\n    </tr>\n  </thead>\n  <tbody>\n    <tr>\n      <th>1</th>\n      <td>15634602</td>\n      <td>Hargrave</td>\n      <td>619</td>\n      <td>France</td>\n      <td>Female</td>\n      <td>42.0</td>\n      <td>2</td>\n      <td>0.00</td>\n      <td>1</td>\n      <td>1.0</td>\n      <td>1.0</td>\n      <td>101348.88</td>\n      <td>1</td>\n    </tr>\n    <tr>\n      <th>2</th>\n      <td>15647311</td>\n      <td>Hill</td>\n      <td>608</td>\n      <td>Spain</td>\n      <td>Female</td>\n      <td>41.0</td>\n      <td>1</td>\n      <td>83807.86</td>\n      <td>1</td>\n      <td>0.0</td>\n      <td>1.0</td>\n      <td>112542.58</td>\n      <td>0</td>\n    </tr>\n    <tr>\n      <th>3</th>\n      <td>15619304</td>\n      <td>Onio</td>\n      <td>502</td>\n      <td>France</td>\n      <td>Female</td>\n      <td>42.0</td>\n      <td>8</td>\n      <td>159660.80</td>\n      <td>3</td>\n      <td>1.0</td>\n      <td>0.0</td>\n      <td>113931.57</td>\n      <td>1</td>\n    </tr>\n    <tr>\n      <th>4</th>\n      <td>15701354</td>\n      <td>Boni</td>\n      <td>699</td>\n      <td>France</td>\n      <td>Female</td>\n      <td>39.0</td>\n      <td>1</td>\n      <td>0.00</td>\n      <td>2</td>\n      <td>0.0</td>\n      <td>0.0</td>\n      <td>93826.63</td>\n      <td>0</td>\n    </tr>\n    <tr>\n      <th>5</th>\n      <td>15737888</td>\n      <td>Mitchell</td>\n      <td>850</td>\n      <td>Spain</td>\n      <td>Female</td>\n      <td>43.0</td>\n      <td>2</td>\n      <td>125510.82</td>\n      <td>1</td>\n      <td>NaN</td>\n      <td>1.0</td>\n      <td>79084.10</td>\n      <td>0</td>\n    </tr>\n    <tr>\n      <th>...</th>\n      <td>...</td>\n      <td>...</td>\n      <td>...</td>\n      <td>...</td>\n      <td>...</td>\n      <td>...</td>\n      <td>...</td>\n      <td>...</td>\n      <td>...</td>\n      <td>...</td>\n      <td>...</td>\n      <td>...</td>\n      <td>...</td>\n    </tr>\n    <tr>\n      <th>8996</th>\n      <td>15580623</td>\n      <td>Yefremova</td>\n      <td>573</td>\n      <td>Spain</td>\n      <td>Male</td>\n      <td>28.0</td>\n      <td>8</td>\n      <td>0.00</td>\n      <td>2</td>\n      <td>0.0</td>\n      <td>0.0</td>\n      <td>77660.03</td>\n      <td>0</td>\n    </tr>\n    <tr>\n      <th>8997</th>\n      <td>15578156</td>\n      <td>Anenechukwu</td>\n      <td>615</td>\n      <td>Spain</td>\n      <td>Male</td>\n      <td>32.0</td>\n      <td>5</td>\n      <td>138521.83</td>\n      <td>1</td>\n      <td>1.0</td>\n      <td>1.0</td>\n      <td>56897.10</td>\n      <td>0</td>\n    </tr>\n    <tr>\n      <th>8998</th>\n      <td>15631063</td>\n      <td>Trentino</td>\n      <td>710</td>\n      <td>France</td>\n      <td>Female</td>\n      <td>33.0</td>\n      <td>2</td>\n      <td>0.00</td>\n      <td>2</td>\n      <td>1.0</td>\n      <td>0.0</td>\n      <td>72945.32</td>\n      <td>0</td>\n    </tr>\n    <tr>\n      <th>8999</th>\n      <td>15692577</td>\n      <td>Tomlinson</td>\n      <td>674</td>\n      <td>Germany</td>\n      <td>Female</td>\n      <td>38.0</td>\n      <td>10</td>\n      <td>83727.68</td>\n      <td>1</td>\n      <td>1.0</td>\n      <td>0.0</td>\n      <td>45418.12</td>\n      <td>0</td>\n    </tr>\n    <tr>\n      <th>9000</th>\n      <td>15810910</td>\n      <td>Royston</td>\n      <td>702</td>\n      <td>Spain</td>\n      <td>Female</td>\n      <td>38.0</td>\n      <td>9</td>\n      <td>0.00</td>\n      <td>2</td>\n      <td>1.0</td>\n      <td>1.0</td>\n      <td>158527.45</td>\n      <td>0</td>\n    </tr>\n  </tbody>\n</table>\n<p>9000 rows × 13 columns</p>\n</div>"
     },
     "execution_count": 5,
     "metadata": {},
     "output_type": "execute_result"
    }
   ],
   "source": [
    "data: DataFrame = load_data(\"../data/train.csv\")\n",
    "data"
   ],
   "metadata": {
    "collapsed": false,
    "ExecuteTime": {
     "end_time": "2024-03-26T14:32:03.114747Z",
     "start_time": "2024-03-26T14:32:03.089234Z"
    }
   },
   "id": "c1a10cac5fbe077a",
   "execution_count": 5
  },
  {
   "cell_type": "code",
   "outputs": [
    {
     "data": {
      "text/plain": "Exited\n0    7142\n1    1858\nName: count, dtype: int64"
     },
     "execution_count": 6,
     "metadata": {},
     "output_type": "execute_result"
    }
   ],
   "source": [
    "data['Exited'].value_counts()"
   ],
   "metadata": {
    "collapsed": false,
    "ExecuteTime": {
     "end_time": "2024-03-26T14:32:33.349322Z",
     "start_time": "2024-03-26T14:32:33.344137Z"
    }
   },
   "id": "552969f0a7d97764",
   "execution_count": 6
  },
  {
   "cell_type": "code",
   "outputs": [],
   "source": [],
   "metadata": {
    "collapsed": false
   },
   "id": "cdbc57e9f5ab600a"
  }
 ],
 "metadata": {
  "kernelspec": {
   "display_name": "Python 3",
   "language": "python",
   "name": "python3"
  },
  "language_info": {
   "codemirror_mode": {
    "name": "ipython",
    "version": 2
   },
   "file_extension": ".py",
   "mimetype": "text/x-python",
   "name": "python",
   "nbconvert_exporter": "python",
   "pygments_lexer": "ipython2",
   "version": "2.7.6"
  }
 },
 "nbformat": 4,
 "nbformat_minor": 5
}
